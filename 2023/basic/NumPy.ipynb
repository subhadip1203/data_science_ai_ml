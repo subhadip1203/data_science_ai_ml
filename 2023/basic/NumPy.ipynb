{
  "nbformat": 4,
  "nbformat_minor": 0,
  "metadata": {
    "colab": {
      "provenance": []
    },
    "kernelspec": {
      "name": "python3",
      "display_name": "Python 3"
    },
    "language_info": {
      "name": "python"
    }
  },
  "cells": [
    {
      "cell_type": "code",
      "execution_count": 1,
      "metadata": {
        "colab": {
          "base_uri": "https://localhost:8080/"
        },
        "id": "CdN1nwrx13mo",
        "outputId": "88829e74-34b4-410f-f448-b1955feedbcf"
      },
      "outputs": [
        {
          "output_type": "execute_result",
          "data": {
            "text/plain": [
              "array([0., 0., 0., 0., 0.])"
            ]
          },
          "metadata": {},
          "execution_count": 1
        }
      ],
      "source": [
        "import numpy as np\n",
        "a = np.zeros(5)\n",
        "a"
      ]
    },
    {
      "cell_type": "code",
      "source": [
        "a1 = np.zeros([3, 3])\n",
        "a1"
      ],
      "metadata": {
        "id": "_SKeg5WkPlNF",
        "outputId": "dc535d7e-fa34-4eac-a138-e467cde51207",
        "colab": {
          "base_uri": "https://localhost:8080/"
        }
      },
      "execution_count": null,
      "outputs": [
        {
          "output_type": "execute_result",
          "data": {
            "text/plain": [
              "array([[0., 0., 0.],\n",
              "       [0., 0., 0.],\n",
              "       [0., 0., 0.]])"
            ]
          },
          "metadata": {},
          "execution_count": 4
        }
      ]
    },
    {
      "cell_type": "code",
      "source": [
        "a.shape"
      ],
      "metadata": {
        "id": "GT7BeqiN2SO2",
        "colab": {
          "base_uri": "https://localhost:8080/"
        },
        "outputId": "1ebe39fa-4df4-4017-f41f-2771feaa15b1"
      },
      "execution_count": null,
      "outputs": [
        {
          "output_type": "execute_result",
          "data": {
            "text/plain": [
              "(5,)"
            ]
          },
          "metadata": {},
          "execution_count": 2
        }
      ]
    },
    {
      "cell_type": "code",
      "source": [
        "b = np.ones(10)\n",
        "b"
      ],
      "metadata": {
        "colab": {
          "base_uri": "https://localhost:8080/"
        },
        "id": "DrPO85ZBeL3A",
        "outputId": "8c2cb086-1d88-4ba5-be61-ff943905c250"
      },
      "execution_count": 2,
      "outputs": [
        {
          "output_type": "execute_result",
          "data": {
            "text/plain": [
              "array([1., 1., 1., 1., 1., 1., 1., 1., 1., 1.])"
            ]
          },
          "metadata": {},
          "execution_count": 2
        }
      ]
    },
    {
      "cell_type": "code",
      "source": [
        "c = np.empty(5)\n",
        "c"
      ],
      "metadata": {
        "colab": {
          "base_uri": "https://localhost:8080/"
        },
        "id": "NDSEy-1reTuv",
        "outputId": "06212b92-6b5f-43d9-deb6-ae067773e60e"
      },
      "execution_count": null,
      "outputs": [
        {
          "output_type": "execute_result",
          "data": {
            "text/plain": [
              "array([0., 0., 0., 0., 0.])"
            ]
          },
          "metadata": {},
          "execution_count": 5
        }
      ]
    },
    {
      "cell_type": "code",
      "source": [
        "aa = np.linspace(2,10,5)  # from 2 to 10 , total 5 elements\n",
        "aa"
      ],
      "metadata": {
        "colab": {
          "base_uri": "https://localhost:8080/"
        },
        "id": "Ng-4i-CVedo_",
        "outputId": "fb92735c-9715-475b-aef2-ec0c2ec7b679"
      },
      "execution_count": null,
      "outputs": [
        {
          "output_type": "execute_result",
          "data": {
            "text/plain": [
              "array([ 2.,  4.,  6.,  8., 10.])"
            ]
          },
          "metadata": {},
          "execution_count": 8
        }
      ]
    },
    {
      "cell_type": "code",
      "source": [
        "bb = np.array([5,5])\n",
        "bb"
      ],
      "metadata": {
        "colab": {
          "base_uri": "https://localhost:8080/"
        },
        "id": "VsxdHG-4erre",
        "outputId": "1d40b0fe-4aac-4237-bf17-5c70744c926a"
      },
      "execution_count": null,
      "outputs": [
        {
          "output_type": "execute_result",
          "data": {
            "text/plain": [
              "array([5, 5])"
            ]
          },
          "metadata": {},
          "execution_count": 9
        }
      ]
    },
    {
      "cell_type": "code",
      "source": [
        "pyList = [1,2,3,4,5]\n",
        "cc = np.array(pyList)  # python list to numpy array\n",
        "cc"
      ],
      "metadata": {
        "colab": {
          "base_uri": "https://localhost:8080/"
        },
        "id": "aBWraVWde37B",
        "outputId": "40ecfef5-914a-4513-8bd2-489a97e63e55"
      },
      "execution_count": null,
      "outputs": [
        {
          "output_type": "execute_result",
          "data": {
            "text/plain": [
              "array([1, 2, 3, 4, 5])"
            ]
          },
          "metadata": {},
          "execution_count": 10
        }
      ]
    },
    {
      "cell_type": "code",
      "source": [
        "multiArr = np.array([[1,2,3,4,5,6],[7,8,9,10,11,12]])\n",
        "multiArr[0, 1:6:2]  # arry first row , then index 1-6 with interval of 2"
      ],
      "metadata": {
        "id": "O2NoB0bYfDke",
        "colab": {
          "base_uri": "https://localhost:8080/"
        },
        "outputId": "5ce76df9-eaa2-44cc-be42-fb5f5a309cc6"
      },
      "execution_count": 7,
      "outputs": [
        {
          "output_type": "execute_result",
          "data": {
            "text/plain": [
              "array([2, 4, 6])"
            ]
          },
          "metadata": {},
          "execution_count": 7
        }
      ]
    },
    {
      "cell_type": "code",
      "source": [
        "#identiry matrix\n",
        "idntyArr = np.identity(5)\n",
        "idntyArr"
      ],
      "metadata": {
        "colab": {
          "base_uri": "https://localhost:8080/"
        },
        "id": "XwfTQGeZETdG",
        "outputId": "f8b19981-bb5c-4ca5-b078-09f69edbe011"
      },
      "execution_count": 8,
      "outputs": [
        {
          "output_type": "execute_result",
          "data": {
            "text/plain": [
              "array([[1., 0., 0., 0., 0.],\n",
              "       [0., 1., 0., 0., 0.],\n",
              "       [0., 0., 1., 0., 0.],\n",
              "       [0., 0., 0., 1., 0.],\n",
              "       [0., 0., 0., 0., 1.]])"
            ]
          },
          "metadata": {},
          "execution_count": 8
        }
      ]
    },
    {
      "cell_type": "code",
      "source": [
        "arr1 = np.array([[1,2,3,4,5]])\n",
        "rptArr1 = np.repeat(arr1,3,axis=0)\n",
        "rptArr2 = np.repeat(arr1,3,axis=1)\n",
        "print(rptArr1)\n",
        "print(\"-------\")\n",
        "print(rptArr2)"
      ],
      "metadata": {
        "colab": {
          "base_uri": "https://localhost:8080/"
        },
        "id": "xPUeN5gxGfvU",
        "outputId": "869c9efa-c1e1-4365-f8b0-bcd511fb7bfc"
      },
      "execution_count": 13,
      "outputs": [
        {
          "output_type": "stream",
          "name": "stdout",
          "text": [
            "[[1 2 3 4 5]\n",
            " [1 2 3 4 5]\n",
            " [1 2 3 4 5]]\n",
            "-------\n",
            "[[1 1 1 2 2 2 3 3 3 4 4 4 5 5 5]]\n"
          ]
        }
      ]
    },
    {
      "cell_type": "code",
      "source": [],
      "metadata": {
        "id": "zfA1x2llG8de"
      },
      "execution_count": null,
      "outputs": []
    }
  ]
}